{
  "nbformat": 4,
  "nbformat_minor": 0,
  "metadata": {
    "colab": {
      "name": "assi 1 DM&W.ipynb",
      "provenance": [],
      "collapsed_sections": [],
      "authorship_tag": "ABX9TyMpeV4P+mKlYE9sXzCrWVVR",
      "include_colab_link": true
    },
    "kernelspec": {
      "name": "python3",
      "display_name": "Python 3"
    },
    "language_info": {
      "name": "python"
    }
  },
  "cells": [
    {
      "cell_type": "markdown",
      "metadata": {
        "id": "view-in-github",
        "colab_type": "text"
      },
      "source": [
        "<a href=\"https://colab.research.google.com/github/ujwala608/270ujwalasable/blob/master/assi_1_DM%26W.ipynb\" target=\"_parent\"><img src=\"https://colab.research.google.com/assets/colab-badge.svg\" alt=\"Open In Colab\"/></a>"
      ]
    },
    {
      "cell_type": "markdown",
      "source": [
        "1]Importing Libraries"
      ],
      "metadata": {
        "id": "fK0D9U9-kKMN"
      }
    },
    {
      "cell_type": "code",
      "source": [
        "import numpy as np\n",
        "import pandas as pd"
      ],
      "metadata": {
        "id": "MyFB6v5jkK9R"
      },
      "execution_count": null,
      "outputs": []
    },
    {
      "cell_type": "markdown",
      "source": [
        "2)Uploading the Dataset from system"
      ],
      "metadata": {
        "id": "tYGrKJMHkg6G"
      }
    },
    {
      "cell_type": "code",
      "source": [
        "from google.colab import files\n",
        "uploaded = files.upload()\n",
        "for fn in uploaded.keys():\n",
        "  print('User uploaded file \"{name}\" with length {length} bytes'.format(\n",
        "      name=fn, length=len(uploaded[fn])))"
      ],
      "metadata": {
        "colab": {
          "resources": {
            "http://localhost:8080/nbextensions/google.colab/files.js": {
              "data": "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",
              "ok": true,
              "headers": [
                [
                  "content-type",
                  "application/javascript"
                ]
              ],
              "status": 200,
              "status_text": ""
            }
          },
          "base_uri": "https://localhost:8080/",
          "height": 92
        },
        "id": "Xbk8roSokipV",
        "outputId": "b70ef976-0bb4-4c97-eb8a-972ad2a4cc24"
      },
      "execution_count": null,
      "outputs": [
        {
          "output_type": "display_data",
          "data": {
            "text/html": [
              "\n",
              "     <input type=\"file\" id=\"files-13cf49f5-bb8a-47ea-b061-054aec9723b8\" name=\"files[]\" multiple disabled\n",
              "        style=\"border:none\" />\n",
              "     <output id=\"result-13cf49f5-bb8a-47ea-b061-054aec9723b8\">\n",
              "      Upload widget is only available when the cell has been executed in the\n",
              "      current browser session. Please rerun this cell to enable.\n",
              "      </output>\n",
              "      <script src=\"/nbextensions/google.colab/files.js\"></script> "
            ],
            "text/plain": [
              "<IPython.core.display.HTML object>"
            ]
          },
          "metadata": {}
        },
        {
          "output_type": "stream",
          "name": "stdout",
          "text": [
            "Saving Students_Academic.csv to Students_Academic.csv\n",
            "User uploaded file \"Students_Academic.csv\" with length 38026 bytes\n"
          ]
        }
      ]
    },
    {
      "cell_type": "markdown",
      "source": [
        "3)Importing the Dataset"
      ],
      "metadata": {
        "id": "ORBmE4JUky_q"
      }
    },
    {
      "cell_type": "code",
      "source": [
        "dataset = pd.read_csv('Students_Academic.csv')\n",
        "print(dataset)"
      ],
      "metadata": {
        "colab": {
          "base_uri": "https://localhost:8080/"
        },
        "id": "XCfOpxQSk5Bo",
        "outputId": "2efd7ff3-d964-4582-e183-cc2dd8f98f91"
      },
      "execution_count": null,
      "outputs": [
        {
          "output_type": "stream",
          "name": "stdout",
          "text": [
            "    gender NationalITy  ... StudentAbsenceDays Class\n",
            "0        M          KW  ...            Under-7     M\n",
            "1        M          KW  ...            Under-7     M\n",
            "2        M          KW  ...            Above-7     L\n",
            "3        M          KW  ...            Above-7     L\n",
            "4        M          KW  ...            Above-7     M\n",
            "..     ...         ...  ...                ...   ...\n",
            "475      F      Jordan  ...            Above-7     L\n",
            "476      F      Jordan  ...            Under-7     M\n",
            "477      F      Jordan  ...            Under-7     M\n",
            "478      F      Jordan  ...            Above-7     L\n",
            "479      F      Jordan  ...            Above-7     L\n",
            "\n",
            "[480 rows x 17 columns]\n"
          ]
        }
      ]
    },
    {
      "cell_type": "markdown",
      "source": [
        "4)Handling Duplicate Data"
      ],
      "metadata": {
        "id": "3uVPpCX4lNW0"
      }
    },
    {
      "cell_type": "code",
      "source": [
        "# Prints the top few rows of the Dataset...\n",
        "dataset.head()"
      ],
      "metadata": {
        "colab": {
          "base_uri": "https://localhost:8080/",
          "height": 226
        },
        "id": "_RFSf4IilQJH",
        "outputId": "32b6df6b-cdfd-4562-98c0-d65388083482"
      },
      "execution_count": null,
      "outputs": [
        {
          "output_type": "execute_result",
          "data": {
            "text/html": [
              "<div>\n",
              "<style scoped>\n",
              "    .dataframe tbody tr th:only-of-type {\n",
              "        vertical-align: middle;\n",
              "    }\n",
              "\n",
              "    .dataframe tbody tr th {\n",
              "        vertical-align: top;\n",
              "    }\n",
              "\n",
              "    .dataframe thead th {\n",
              "        text-align: right;\n",
              "    }\n",
              "</style>\n",
              "<table border=\"1\" class=\"dataframe\">\n",
              "  <thead>\n",
              "    <tr style=\"text-align: right;\">\n",
              "      <th></th>\n",
              "      <th>gender</th>\n",
              "      <th>NationalITy</th>\n",
              "      <th>PlaceofBirth</th>\n",
              "      <th>StageID</th>\n",
              "      <th>GradeID</th>\n",
              "      <th>SectionID</th>\n",
              "      <th>Topic</th>\n",
              "      <th>Semester</th>\n",
              "      <th>Relation</th>\n",
              "      <th>raisedhands</th>\n",
              "      <th>VisITedResources</th>\n",
              "      <th>AnnouncementsView</th>\n",
              "      <th>Discussion</th>\n",
              "      <th>ParentAnsweringSurvey</th>\n",
              "      <th>ParentschoolSatisfaction</th>\n",
              "      <th>StudentAbsenceDays</th>\n",
              "      <th>Class</th>\n",
              "    </tr>\n",
              "  </thead>\n",
              "  <tbody>\n",
              "    <tr>\n",
              "      <th>0</th>\n",
              "      <td>M</td>\n",
              "      <td>KW</td>\n",
              "      <td>KuwaIT</td>\n",
              "      <td>lowerlevel</td>\n",
              "      <td>G-04</td>\n",
              "      <td>A</td>\n",
              "      <td>IT</td>\n",
              "      <td>F</td>\n",
              "      <td>Father</td>\n",
              "      <td>15</td>\n",
              "      <td>16</td>\n",
              "      <td>2</td>\n",
              "      <td>20</td>\n",
              "      <td>Yes</td>\n",
              "      <td>Good</td>\n",
              "      <td>Under-7</td>\n",
              "      <td>M</td>\n",
              "    </tr>\n",
              "    <tr>\n",
              "      <th>1</th>\n",
              "      <td>M</td>\n",
              "      <td>KW</td>\n",
              "      <td>KuwaIT</td>\n",
              "      <td>lowerlevel</td>\n",
              "      <td>G-04</td>\n",
              "      <td>A</td>\n",
              "      <td>IT</td>\n",
              "      <td>F</td>\n",
              "      <td>Father</td>\n",
              "      <td>20</td>\n",
              "      <td>20</td>\n",
              "      <td>3</td>\n",
              "      <td>25</td>\n",
              "      <td>Yes</td>\n",
              "      <td>Good</td>\n",
              "      <td>Under-7</td>\n",
              "      <td>M</td>\n",
              "    </tr>\n",
              "    <tr>\n",
              "      <th>2</th>\n",
              "      <td>M</td>\n",
              "      <td>KW</td>\n",
              "      <td>KuwaIT</td>\n",
              "      <td>lowerlevel</td>\n",
              "      <td>G-04</td>\n",
              "      <td>A</td>\n",
              "      <td>IT</td>\n",
              "      <td>F</td>\n",
              "      <td>Father</td>\n",
              "      <td>10</td>\n",
              "      <td>7</td>\n",
              "      <td>0</td>\n",
              "      <td>30</td>\n",
              "      <td>No</td>\n",
              "      <td>Bad</td>\n",
              "      <td>Above-7</td>\n",
              "      <td>L</td>\n",
              "    </tr>\n",
              "    <tr>\n",
              "      <th>3</th>\n",
              "      <td>M</td>\n",
              "      <td>KW</td>\n",
              "      <td>KuwaIT</td>\n",
              "      <td>lowerlevel</td>\n",
              "      <td>G-04</td>\n",
              "      <td>A</td>\n",
              "      <td>IT</td>\n",
              "      <td>F</td>\n",
              "      <td>Father</td>\n",
              "      <td>30</td>\n",
              "      <td>25</td>\n",
              "      <td>5</td>\n",
              "      <td>35</td>\n",
              "      <td>No</td>\n",
              "      <td>Bad</td>\n",
              "      <td>Above-7</td>\n",
              "      <td>L</td>\n",
              "    </tr>\n",
              "    <tr>\n",
              "      <th>4</th>\n",
              "      <td>M</td>\n",
              "      <td>KW</td>\n",
              "      <td>KuwaIT</td>\n",
              "      <td>lowerlevel</td>\n",
              "      <td>G-04</td>\n",
              "      <td>A</td>\n",
              "      <td>IT</td>\n",
              "      <td>F</td>\n",
              "      <td>Father</td>\n",
              "      <td>40</td>\n",
              "      <td>50</td>\n",
              "      <td>12</td>\n",
              "      <td>50</td>\n",
              "      <td>No</td>\n",
              "      <td>Bad</td>\n",
              "      <td>Above-7</td>\n",
              "      <td>M</td>\n",
              "    </tr>\n",
              "  </tbody>\n",
              "</table>\n",
              "</div>"
            ],
            "text/plain": [
              "  gender NationalITy  ... StudentAbsenceDays Class\n",
              "0      M          KW  ...            Under-7     M\n",
              "1      M          KW  ...            Under-7     M\n",
              "2      M          KW  ...            Above-7     L\n",
              "3      M          KW  ...            Above-7     L\n",
              "4      M          KW  ...            Above-7     M\n",
              "\n",
              "[5 rows x 17 columns]"
            ]
          },
          "metadata": {},
          "execution_count": 4
        }
      ]
    },
    {
      "cell_type": "code",
      "source": [
        "# Function use to get stats about the\n",
        "dataset.describe()"
      ],
      "metadata": {
        "colab": {
          "base_uri": "https://localhost:8080/",
          "height": 300
        },
        "id": "M78SKWIClcIB",
        "outputId": "086381b2-0722-4fbe-fe4c-5d39ff8c5909"
      },
      "execution_count": null,
      "outputs": [
        {
          "output_type": "execute_result",
          "data": {
            "text/html": [
              "<div>\n",
              "<style scoped>\n",
              "    .dataframe tbody tr th:only-of-type {\n",
              "        vertical-align: middle;\n",
              "    }\n",
              "\n",
              "    .dataframe tbody tr th {\n",
              "        vertical-align: top;\n",
              "    }\n",
              "\n",
              "    .dataframe thead th {\n",
              "        text-align: right;\n",
              "    }\n",
              "</style>\n",
              "<table border=\"1\" class=\"dataframe\">\n",
              "  <thead>\n",
              "    <tr style=\"text-align: right;\">\n",
              "      <th></th>\n",
              "      <th>raisedhands</th>\n",
              "      <th>VisITedResources</th>\n",
              "      <th>AnnouncementsView</th>\n",
              "      <th>Discussion</th>\n",
              "    </tr>\n",
              "  </thead>\n",
              "  <tbody>\n",
              "    <tr>\n",
              "      <th>count</th>\n",
              "      <td>480.000000</td>\n",
              "      <td>480.000000</td>\n",
              "      <td>480.000000</td>\n",
              "      <td>480.000000</td>\n",
              "    </tr>\n",
              "    <tr>\n",
              "      <th>mean</th>\n",
              "      <td>46.775000</td>\n",
              "      <td>54.797917</td>\n",
              "      <td>37.918750</td>\n",
              "      <td>43.283333</td>\n",
              "    </tr>\n",
              "    <tr>\n",
              "      <th>std</th>\n",
              "      <td>30.779223</td>\n",
              "      <td>33.080007</td>\n",
              "      <td>26.611244</td>\n",
              "      <td>27.637735</td>\n",
              "    </tr>\n",
              "    <tr>\n",
              "      <th>min</th>\n",
              "      <td>0.000000</td>\n",
              "      <td>0.000000</td>\n",
              "      <td>0.000000</td>\n",
              "      <td>1.000000</td>\n",
              "    </tr>\n",
              "    <tr>\n",
              "      <th>25%</th>\n",
              "      <td>15.750000</td>\n",
              "      <td>20.000000</td>\n",
              "      <td>14.000000</td>\n",
              "      <td>20.000000</td>\n",
              "    </tr>\n",
              "    <tr>\n",
              "      <th>50%</th>\n",
              "      <td>50.000000</td>\n",
              "      <td>65.000000</td>\n",
              "      <td>33.000000</td>\n",
              "      <td>39.000000</td>\n",
              "    </tr>\n",
              "    <tr>\n",
              "      <th>75%</th>\n",
              "      <td>75.000000</td>\n",
              "      <td>84.000000</td>\n",
              "      <td>58.000000</td>\n",
              "      <td>70.000000</td>\n",
              "    </tr>\n",
              "    <tr>\n",
              "      <th>max</th>\n",
              "      <td>100.000000</td>\n",
              "      <td>99.000000</td>\n",
              "      <td>98.000000</td>\n",
              "      <td>99.000000</td>\n",
              "    </tr>\n",
              "  </tbody>\n",
              "</table>\n",
              "</div>"
            ],
            "text/plain": [
              "       raisedhands  VisITedResources  AnnouncementsView  Discussion\n",
              "count   480.000000        480.000000         480.000000  480.000000\n",
              "mean     46.775000         54.797917          37.918750   43.283333\n",
              "std      30.779223         33.080007          26.611244   27.637735\n",
              "min       0.000000          0.000000           0.000000    1.000000\n",
              "25%      15.750000         20.000000          14.000000   20.000000\n",
              "50%      50.000000         65.000000          33.000000   39.000000\n",
              "75%      75.000000         84.000000          58.000000   70.000000\n",
              "max     100.000000         99.000000          98.000000   99.000000"
            ]
          },
          "metadata": {},
          "execution_count": 5
        }
      ]
    },
    {
      "cell_type": "code",
      "source": [
        "# Remove Duplicates\n",
        "dataset = dataset.drop_duplicates()\n",
        "print(dataset)"
      ],
      "metadata": {
        "colab": {
          "base_uri": "https://localhost:8080/"
        },
        "id": "cJUL1t5XlhW0",
        "outputId": "cd67234d-e19f-4469-995f-80d61f3e0b80"
      },
      "execution_count": null,
      "outputs": [
        {
          "output_type": "stream",
          "name": "stdout",
          "text": [
            "    gender NationalITy  ... StudentAbsenceDays Class\n",
            "0        M          KW  ...            Under-7     M\n",
            "1        M          KW  ...            Under-7     M\n",
            "2        M          KW  ...            Above-7     L\n",
            "3        M          KW  ...            Above-7     L\n",
            "4        M          KW  ...            Above-7     M\n",
            "..     ...         ...  ...                ...   ...\n",
            "475      F      Jordan  ...            Above-7     L\n",
            "476      F      Jordan  ...            Under-7     M\n",
            "477      F      Jordan  ...            Under-7     M\n",
            "478      F      Jordan  ...            Above-7     L\n",
            "479      F      Jordan  ...            Above-7     L\n",
            "\n",
            "[478 rows x 17 columns]\n"
          ]
        }
      ]
    },
    {
      "cell_type": "code",
      "source": [
        "# Function use to get stats about the dataset...\n",
        "dataset.describe()"
      ],
      "metadata": {
        "colab": {
          "base_uri": "https://localhost:8080/",
          "height": 300
        },
        "id": "RgvOpSmXloM3",
        "outputId": "440d93ed-d4ee-44c4-f0e0-e37219b154f0"
      },
      "execution_count": null,
      "outputs": [
        {
          "output_type": "execute_result",
          "data": {
            "text/html": [
              "<div>\n",
              "<style scoped>\n",
              "    .dataframe tbody tr th:only-of-type {\n",
              "        vertical-align: middle;\n",
              "    }\n",
              "\n",
              "    .dataframe tbody tr th {\n",
              "        vertical-align: top;\n",
              "    }\n",
              "\n",
              "    .dataframe thead th {\n",
              "        text-align: right;\n",
              "    }\n",
              "</style>\n",
              "<table border=\"1\" class=\"dataframe\">\n",
              "  <thead>\n",
              "    <tr style=\"text-align: right;\">\n",
              "      <th></th>\n",
              "      <th>raisedhands</th>\n",
              "      <th>VisITedResources</th>\n",
              "      <th>AnnouncementsView</th>\n",
              "      <th>Discussion</th>\n",
              "    </tr>\n",
              "  </thead>\n",
              "  <tbody>\n",
              "    <tr>\n",
              "      <th>count</th>\n",
              "      <td>478.000000</td>\n",
              "      <td>478.000000</td>\n",
              "      <td>478.000000</td>\n",
              "      <td>478.000000</td>\n",
              "    </tr>\n",
              "    <tr>\n",
              "      <th>mean</th>\n",
              "      <td>46.887029</td>\n",
              "      <td>54.974895</td>\n",
              "      <td>38.014644</td>\n",
              "      <td>43.410042</td>\n",
              "    </tr>\n",
              "    <tr>\n",
              "      <th>std</th>\n",
              "      <td>30.787903</td>\n",
              "      <td>33.035071</td>\n",
              "      <td>26.623507</td>\n",
              "      <td>27.620961</td>\n",
              "    </tr>\n",
              "    <tr>\n",
              "      <th>min</th>\n",
              "      <td>0.000000</td>\n",
              "      <td>0.000000</td>\n",
              "      <td>0.000000</td>\n",
              "      <td>1.000000</td>\n",
              "    </tr>\n",
              "    <tr>\n",
              "      <th>25%</th>\n",
              "      <td>16.000000</td>\n",
              "      <td>20.000000</td>\n",
              "      <td>14.250000</td>\n",
              "      <td>20.000000</td>\n",
              "    </tr>\n",
              "    <tr>\n",
              "      <th>50%</th>\n",
              "      <td>50.000000</td>\n",
              "      <td>65.000000</td>\n",
              "      <td>33.000000</td>\n",
              "      <td>39.500000</td>\n",
              "    </tr>\n",
              "    <tr>\n",
              "      <th>75%</th>\n",
              "      <td>75.000000</td>\n",
              "      <td>84.000000</td>\n",
              "      <td>58.000000</td>\n",
              "      <td>70.000000</td>\n",
              "    </tr>\n",
              "    <tr>\n",
              "      <th>max</th>\n",
              "      <td>100.000000</td>\n",
              "      <td>99.000000</td>\n",
              "      <td>98.000000</td>\n",
              "      <td>99.000000</td>\n",
              "    </tr>\n",
              "  </tbody>\n",
              "</table>\n",
              "</div>"
            ],
            "text/plain": [
              "       raisedhands  VisITedResources  AnnouncementsView  Discussion\n",
              "count   478.000000        478.000000         478.000000  478.000000\n",
              "mean     46.887029         54.974895          38.014644   43.410042\n",
              "std      30.787903         33.035071          26.623507   27.620961\n",
              "min       0.000000          0.000000           0.000000    1.000000\n",
              "25%      16.000000         20.000000          14.250000   20.000000\n",
              "50%      50.000000         65.000000          33.000000   39.500000\n",
              "75%      75.000000         84.000000          58.000000   70.000000\n",
              "max     100.000000         99.000000          98.000000   99.000000"
            ]
          },
          "metadata": {},
          "execution_count": 7
        }
      ]
    },
    {
      "cell_type": "markdown",
      "source": [
        "5) Handling Missing Data"
      ],
      "metadata": {
        "id": "ozuQ9lCNluis"
      }
    },
    {
      "cell_type": "code",
      "source": [
        "# Checking blank Values\n",
        "dataset.isnull()"
      ],
      "metadata": {
        "colab": {
          "base_uri": "https://localhost:8080/",
          "height": 444
        },
        "id": "j0r91I_6lwW3",
        "outputId": "1ed3fb69-406a-4f78-885d-d7dca1aff64d"
      },
      "execution_count": null,
      "outputs": [
        {
          "output_type": "execute_result",
          "data": {
            "text/html": [
              "<div>\n",
              "<style scoped>\n",
              "    .dataframe tbody tr th:only-of-type {\n",
              "        vertical-align: middle;\n",
              "    }\n",
              "\n",
              "    .dataframe tbody tr th {\n",
              "        vertical-align: top;\n",
              "    }\n",
              "\n",
              "    .dataframe thead th {\n",
              "        text-align: right;\n",
              "    }\n",
              "</style>\n",
              "<table border=\"1\" class=\"dataframe\">\n",
              "  <thead>\n",
              "    <tr style=\"text-align: right;\">\n",
              "      <th></th>\n",
              "      <th>gender</th>\n",
              "      <th>NationalITy</th>\n",
              "      <th>PlaceofBirth</th>\n",
              "      <th>StageID</th>\n",
              "      <th>GradeID</th>\n",
              "      <th>SectionID</th>\n",
              "      <th>Topic</th>\n",
              "      <th>Semester</th>\n",
              "      <th>Relation</th>\n",
              "      <th>raisedhands</th>\n",
              "      <th>VisITedResources</th>\n",
              "      <th>AnnouncementsView</th>\n",
              "      <th>Discussion</th>\n",
              "      <th>ParentAnsweringSurvey</th>\n",
              "      <th>ParentschoolSatisfaction</th>\n",
              "      <th>StudentAbsenceDays</th>\n",
              "      <th>Class</th>\n",
              "    </tr>\n",
              "  </thead>\n",
              "  <tbody>\n",
              "    <tr>\n",
              "      <th>0</th>\n",
              "      <td>False</td>\n",
              "      <td>False</td>\n",
              "      <td>False</td>\n",
              "      <td>False</td>\n",
              "      <td>False</td>\n",
              "      <td>False</td>\n",
              "      <td>False</td>\n",
              "      <td>False</td>\n",
              "      <td>False</td>\n",
              "      <td>False</td>\n",
              "      <td>False</td>\n",
              "      <td>False</td>\n",
              "      <td>False</td>\n",
              "      <td>False</td>\n",
              "      <td>False</td>\n",
              "      <td>False</td>\n",
              "      <td>False</td>\n",
              "    </tr>\n",
              "    <tr>\n",
              "      <th>1</th>\n",
              "      <td>False</td>\n",
              "      <td>False</td>\n",
              "      <td>False</td>\n",
              "      <td>False</td>\n",
              "      <td>False</td>\n",
              "      <td>False</td>\n",
              "      <td>False</td>\n",
              "      <td>False</td>\n",
              "      <td>False</td>\n",
              "      <td>False</td>\n",
              "      <td>False</td>\n",
              "      <td>False</td>\n",
              "      <td>False</td>\n",
              "      <td>False</td>\n",
              "      <td>False</td>\n",
              "      <td>False</td>\n",
              "      <td>False</td>\n",
              "    </tr>\n",
              "    <tr>\n",
              "      <th>2</th>\n",
              "      <td>False</td>\n",
              "      <td>False</td>\n",
              "      <td>False</td>\n",
              "      <td>False</td>\n",
              "      <td>False</td>\n",
              "      <td>False</td>\n",
              "      <td>False</td>\n",
              "      <td>False</td>\n",
              "      <td>False</td>\n",
              "      <td>False</td>\n",
              "      <td>False</td>\n",
              "      <td>False</td>\n",
              "      <td>False</td>\n",
              "      <td>False</td>\n",
              "      <td>False</td>\n",
              "      <td>False</td>\n",
              "      <td>False</td>\n",
              "    </tr>\n",
              "    <tr>\n",
              "      <th>3</th>\n",
              "      <td>False</td>\n",
              "      <td>False</td>\n",
              "      <td>False</td>\n",
              "      <td>False</td>\n",
              "      <td>False</td>\n",
              "      <td>False</td>\n",
              "      <td>False</td>\n",
              "      <td>False</td>\n",
              "      <td>False</td>\n",
              "      <td>False</td>\n",
              "      <td>False</td>\n",
              "      <td>False</td>\n",
              "      <td>False</td>\n",
              "      <td>False</td>\n",
              "      <td>False</td>\n",
              "      <td>False</td>\n",
              "      <td>False</td>\n",
              "    </tr>\n",
              "    <tr>\n",
              "      <th>4</th>\n",
              "      <td>False</td>\n",
              "      <td>False</td>\n",
              "      <td>False</td>\n",
              "      <td>False</td>\n",
              "      <td>False</td>\n",
              "      <td>False</td>\n",
              "      <td>False</td>\n",
              "      <td>False</td>\n",
              "      <td>False</td>\n",
              "      <td>False</td>\n",
              "      <td>False</td>\n",
              "      <td>False</td>\n",
              "      <td>False</td>\n",
              "      <td>False</td>\n",
              "      <td>False</td>\n",
              "      <td>False</td>\n",
              "      <td>False</td>\n",
              "    </tr>\n",
              "    <tr>\n",
              "      <th>...</th>\n",
              "      <td>...</td>\n",
              "      <td>...</td>\n",
              "      <td>...</td>\n",
              "      <td>...</td>\n",
              "      <td>...</td>\n",
              "      <td>...</td>\n",
              "      <td>...</td>\n",
              "      <td>...</td>\n",
              "      <td>...</td>\n",
              "      <td>...</td>\n",
              "      <td>...</td>\n",
              "      <td>...</td>\n",
              "      <td>...</td>\n",
              "      <td>...</td>\n",
              "      <td>...</td>\n",
              "      <td>...</td>\n",
              "      <td>...</td>\n",
              "    </tr>\n",
              "    <tr>\n",
              "      <th>475</th>\n",
              "      <td>False</td>\n",
              "      <td>False</td>\n",
              "      <td>False</td>\n",
              "      <td>False</td>\n",
              "      <td>False</td>\n",
              "      <td>False</td>\n",
              "      <td>False</td>\n",
              "      <td>False</td>\n",
              "      <td>False</td>\n",
              "      <td>False</td>\n",
              "      <td>False</td>\n",
              "      <td>False</td>\n",
              "      <td>False</td>\n",
              "      <td>False</td>\n",
              "      <td>False</td>\n",
              "      <td>False</td>\n",
              "      <td>False</td>\n",
              "    </tr>\n",
              "    <tr>\n",
              "      <th>476</th>\n",
              "      <td>False</td>\n",
              "      <td>False</td>\n",
              "      <td>False</td>\n",
              "      <td>False</td>\n",
              "      <td>False</td>\n",
              "      <td>False</td>\n",
              "      <td>False</td>\n",
              "      <td>False</td>\n",
              "      <td>False</td>\n",
              "      <td>False</td>\n",
              "      <td>False</td>\n",
              "      <td>False</td>\n",
              "      <td>False</td>\n",
              "      <td>False</td>\n",
              "      <td>False</td>\n",
              "      <td>False</td>\n",
              "      <td>False</td>\n",
              "    </tr>\n",
              "    <tr>\n",
              "      <th>477</th>\n",
              "      <td>False</td>\n",
              "      <td>False</td>\n",
              "      <td>False</td>\n",
              "      <td>False</td>\n",
              "      <td>False</td>\n",
              "      <td>False</td>\n",
              "      <td>False</td>\n",
              "      <td>False</td>\n",
              "      <td>False</td>\n",
              "      <td>False</td>\n",
              "      <td>False</td>\n",
              "      <td>False</td>\n",
              "      <td>False</td>\n",
              "      <td>False</td>\n",
              "      <td>False</td>\n",
              "      <td>False</td>\n",
              "      <td>False</td>\n",
              "    </tr>\n",
              "    <tr>\n",
              "      <th>478</th>\n",
              "      <td>False</td>\n",
              "      <td>False</td>\n",
              "      <td>False</td>\n",
              "      <td>False</td>\n",
              "      <td>False</td>\n",
              "      <td>False</td>\n",
              "      <td>False</td>\n",
              "      <td>False</td>\n",
              "      <td>False</td>\n",
              "      <td>False</td>\n",
              "      <td>False</td>\n",
              "      <td>False</td>\n",
              "      <td>False</td>\n",
              "      <td>False</td>\n",
              "      <td>False</td>\n",
              "      <td>False</td>\n",
              "      <td>False</td>\n",
              "    </tr>\n",
              "    <tr>\n",
              "      <th>479</th>\n",
              "      <td>False</td>\n",
              "      <td>False</td>\n",
              "      <td>False</td>\n",
              "      <td>False</td>\n",
              "      <td>False</td>\n",
              "      <td>False</td>\n",
              "      <td>False</td>\n",
              "      <td>False</td>\n",
              "      <td>False</td>\n",
              "      <td>False</td>\n",
              "      <td>False</td>\n",
              "      <td>False</td>\n",
              "      <td>False</td>\n",
              "      <td>False</td>\n",
              "      <td>False</td>\n",
              "      <td>False</td>\n",
              "      <td>False</td>\n",
              "    </tr>\n",
              "  </tbody>\n",
              "</table>\n",
              "<p>478 rows × 17 columns</p>\n",
              "</div>"
            ],
            "text/plain": [
              "     gender  NationalITy  ...  StudentAbsenceDays  Class\n",
              "0     False        False  ...               False  False\n",
              "1     False        False  ...               False  False\n",
              "2     False        False  ...               False  False\n",
              "3     False        False  ...               False  False\n",
              "4     False        False  ...               False  False\n",
              "..      ...          ...  ...                 ...    ...\n",
              "475   False        False  ...               False  False\n",
              "476   False        False  ...               False  False\n",
              "477   False        False  ...               False  False\n",
              "478   False        False  ...               False  False\n",
              "479   False        False  ...               False  False\n",
              "\n",
              "[478 rows x 17 columns]"
            ]
          },
          "metadata": {},
          "execution_count": 8
        }
      ]
    },
    {
      "cell_type": "code",
      "source": [
        "# Checking null values category wise\n",
        "dataset.isnull().sum()"
      ],
      "metadata": {
        "colab": {
          "base_uri": "https://localhost:8080/"
        },
        "id": "w9-9_8_hl6DX",
        "outputId": "3eaf68fa-2a48-454e-e4a2-b4e64d7c0aad"
      },
      "execution_count": null,
      "outputs": [
        {
          "output_type": "execute_result",
          "data": {
            "text/plain": [
              "gender                      0\n",
              "NationalITy                 0\n",
              "PlaceofBirth                0\n",
              "StageID                     0\n",
              "GradeID                     0\n",
              "SectionID                   0\n",
              "Topic                       0\n",
              "Semester                    0\n",
              "Relation                    0\n",
              "raisedhands                 0\n",
              "VisITedResources            0\n",
              "AnnouncementsView           0\n",
              "Discussion                  0\n",
              "ParentAnsweringSurvey       0\n",
              "ParentschoolSatisfaction    0\n",
              "StudentAbsenceDays          0\n",
              "Class                       0\n",
              "dtype: int64"
            ]
          },
          "metadata": {},
          "execution_count": 9
        }
      ]
    },
    {
      "cell_type": "code",
      "source": [
        "# Dropping categorical data rows with missing values\n",
        "dataset.dropna(how='any', subset=['SectionID', 'Discussion'], inplace=True)"
      ],
      "metadata": {
        "id": "4IHHmW7RmChA"
      },
      "execution_count": null,
      "outputs": []
    },
    {
      "cell_type": "code",
      "source": [
        "# Checking null values category wise\n",
        "dataset.isnull().sum()"
      ],
      "metadata": {
        "colab": {
          "base_uri": "https://localhost:8080/"
        },
        "id": "f9sNhnJimeZz",
        "outputId": "1f936f69-c967-4fd1-d744-fbb2ea6f78bc"
      },
      "execution_count": null,
      "outputs": [
        {
          "output_type": "execute_result",
          "data": {
            "text/plain": [
              "gender                      0\n",
              "NationalITy                 0\n",
              "PlaceofBirth                0\n",
              "StageID                     0\n",
              "GradeID                     0\n",
              "SectionID                   0\n",
              "Topic                       0\n",
              "Semester                    0\n",
              "Relation                    0\n",
              "raisedhands                 0\n",
              "VisITedResources            0\n",
              "AnnouncementsView           0\n",
              "Discussion                  0\n",
              "ParentAnsweringSurvey       0\n",
              "ParentschoolSatisfaction    0\n",
              "StudentAbsenceDays          0\n",
              "Class                       0\n",
              "dtype: int64"
            ]
          },
          "metadata": {},
          "execution_count": 14
        }
      ]
    },
    {
      "cell_type": "code",
      "source": [
        "# Splitting dataset into independent & dependent variable\n",
        "X = dataset[['PlaceofBirth', 'StageID', 'GradeID']].values\n",
        "y = dataset['Discussion'].values\n",
        "print(X)"
      ],
      "metadata": {
        "colab": {
          "base_uri": "https://localhost:8080/"
        },
        "id": "L7bH_uwEmvgv",
        "outputId": "6cb4614e-8b5d-4724-bde2-c30b8622b6a3"
      },
      "execution_count": null,
      "outputs": [
        {
          "output_type": "stream",
          "name": "stdout",
          "text": [
            "[['KuwaIT' 'lowerlevel' 'G-04']\n",
            " ['KuwaIT' 'lowerlevel' 'G-04']\n",
            " ['KuwaIT' 'lowerlevel' 'G-04']\n",
            " ...\n",
            " ['Jordan' 'MiddleSchool' 'G-08']\n",
            " ['Jordan' 'MiddleSchool' 'G-08']\n",
            " ['Jordan' 'MiddleSchool' 'G-08']]\n"
          ]
        }
      ]
    },
    {
      "cell_type": "code",
      "source": [
        "print(y)"
      ],
      "metadata": {
        "colab": {
          "base_uri": "https://localhost:8080/"
        },
        "id": "SGp_xSiCncAf",
        "outputId": "f198c1a2-33f1-4e4e-ecc8-f47a934c6c42"
      },
      "execution_count": null,
      "outputs": [
        {
          "output_type": "stream",
          "name": "stdout",
          "text": [
            "[20 25 30 35 50 70 17 22 50 70 80 12 11 19 60 66 80 90 96 99 90 80 90 50\n",
            " 70 40 40 33 43 35 70 16 50 40 40 30 22 90  4 70 70 50 33 90 90 70 30 90\n",
            " 88 77 70 50 40 75 30 20  1  5 50 40 20 40 80 12  2 19 30 80 30 33 12 20\n",
            "  8 19 13 60 44 33  9 55 40 70 80 50 10 12 50 50 33 50 60 19 15 40 10 70\n",
            " 75 12 30 50 90  7  8 10  3 80 40 33  3 14 40 80 50 69 50 70 19 17 22 60\n",
            " 50 30 12  5 15 17 55  9 16  2 30 50  3 70 70 70 70 40 90 70 20 10 11 19\n",
            " 19 11 70 30 40 70 59 89 40 40 41 91 49 40 10 80 50 66 73 43 14 66 43 43\n",
            " 33 23 33 33 13 33 43 53 33 11 13 33 93 33 53 53 13 33 53 51 53 23 53 13\n",
            " 53 53 23 33 53 53 53 13 83 43 33 40 24 24 14 14 14 84 14 14 19 14  4 14\n",
            " 61 10 94 34 13 24 40 90 70 30 30 10 81 10 29 20 50 46 66 26  6 66 66 76\n",
            " 96 86  6 46 85 66 77 96 16 40 40 17 94 44 70 40 60 65 95 17 14 64 34  7\n",
            " 32 37 17 29 10 20 30 36 16 26 70 60 26 27 25 27 37 37 80 86 36 39 89 85\n",
            " 69 80 44 24 74 84 74 84 84 89 34 29 13  9 23 39 43 89 83 89 89 79 33 39\n",
            " 43 49 83 89 23 13  3 10 11 15 21  5 31 35 83 80 41 33 21 23  3  7 21 20\n",
            " 11 14 11 10 41 33 14 30 14 30  3  7  6 10 11 13 21 23 25 27 15 17 28 38\n",
            " 38 39 28 29 38 48 31 34 21 23 97 98 51 23 61 63 91 83 98 93 28 33 28 23\n",
            " 97 88  7  8 10 12 20 22 40 72 61 63 81 83 26 22 86 82 70 72  1  3 31 33\n",
            " 21 43 51 83  1  3 71 83 81 84 31 43 45 43 79 68 11 13 41 49 61 68 81 98\n",
            " 10 20 30 23 19 29 15 10 75 70 39 40 79 80 89 85 10  2 20 12 80 72 30 22\n",
            " 81 83 71 72 89 92 90 92 58 60 80 85 41 53 68 70  8  8 28 29 57 62]\n"
          ]
        }
      ]
    },
    {
      "cell_type": "code",
      "source": [
        "from sklearn.impute import SimpleImputer\n",
        "print(X[:, 1:3]) #working with only numerical data"
      ],
      "metadata": {
        "colab": {
          "base_uri": "https://localhost:8080/"
        },
        "id": "bigF8AqgnlnE",
        "outputId": "160ba0f5-4eb4-4632-de00-f3bfc0dfa38f"
      },
      "execution_count": null,
      "outputs": [
        {
          "output_type": "stream",
          "name": "stdout",
          "text": [
            "[['lowerlevel' 'G-04']\n",
            " ['lowerlevel' 'G-04']\n",
            " ['lowerlevel' 'G-04']\n",
            " ['lowerlevel' 'G-04']\n",
            " ['lowerlevel' 'G-04']\n",
            " ['lowerlevel' 'G-04']\n",
            " ['MiddleSchool' 'G-07']\n",
            " ['MiddleSchool' 'G-07']\n",
            " ['MiddleSchool' 'G-07']\n",
            " ['MiddleSchool' 'G-07']\n",
            " ['MiddleSchool' 'G-07']\n",
            " ['MiddleSchool' 'G-07']\n",
            " ['lowerlevel' 'G-04']\n",
            " ['MiddleSchool' 'G-08']\n",
            " ['MiddleSchool' 'G-08']\n",
            " ['MiddleSchool' 'G-06']\n",
            " ['MiddleSchool' 'G-07']\n",
            " ['MiddleSchool' 'G-07']\n",
            " ['MiddleSchool' 'G-07']\n",
            " ['MiddleSchool' 'G-07']\n",
            " ['MiddleSchool' 'G-07']\n",
            " ['MiddleSchool' 'G-07']\n",
            " ['MiddleSchool' 'G-07']\n",
            " ['MiddleSchool' 'G-07']\n",
            " ['MiddleSchool' 'G-07']\n",
            " ['MiddleSchool' 'G-07']\n",
            " ['MiddleSchool' 'G-07']\n",
            " ['MiddleSchool' 'G-08']\n",
            " ['MiddleSchool' 'G-08']\n",
            " ['MiddleSchool' 'G-08']\n",
            " ['MiddleSchool' 'G-08']\n",
            " ['MiddleSchool' 'G-07']\n",
            " ['lowerlevel' 'G-07']\n",
            " ['lowerlevel' 'G-05']\n",
            " ['MiddleSchool' 'G-07']\n",
            " ['MiddleSchool' 'G-07']\n",
            " ['MiddleSchool' 'G-07']\n",
            " ['MiddleSchool' 'G-07']\n",
            " ['MiddleSchool' 'G-06']\n",
            " ['MiddleSchool' 'G-07']\n",
            " ['MiddleSchool' 'G-07']\n",
            " ['MiddleSchool' 'G-07']\n",
            " ['HighSchool' 'G-09']\n",
            " ['HighSchool' 'G-09']\n",
            " ['HighSchool' 'G-09']\n",
            " ['MiddleSchool' 'G-07']\n",
            " ['lowerlevel' 'G-05']\n",
            " ['HighSchool' 'G-12']\n",
            " ['HighSchool' 'G-12']\n",
            " ['HighSchool' 'G-12']\n",
            " ['HighSchool' 'G-12']\n",
            " ['HighSchool' 'G-12']\n",
            " ['HighSchool' 'G-12']\n",
            " ['HighSchool' 'G-11']\n",
            " ['HighSchool' 'G-12']\n",
            " ['MiddleSchool' 'G-07']\n",
            " ['MiddleSchool' 'G-08']\n",
            " ['MiddleSchool' 'G-07']\n",
            " ['MiddleSchool' 'G-07']\n",
            " ['MiddleSchool' 'G-07']\n",
            " ['lowerlevel' 'G-05']\n",
            " ['HighSchool' 'G-10']\n",
            " ['HighSchool' 'G-10']\n",
            " ['HighSchool' 'G-10']\n",
            " ['HighSchool' 'G-10']\n",
            " ['HighSchool' 'G-12']\n",
            " ['HighSchool' 'G-12']\n",
            " ['HighSchool' 'G-12']\n",
            " ['HighSchool' 'G-12']\n",
            " ['MiddleSchool' 'G-07']\n",
            " ['MiddleSchool' 'G-07']\n",
            " ['MiddleSchool' 'G-07']\n",
            " ['MiddleSchool' 'G-07']\n",
            " ['MiddleSchool' 'G-07']\n",
            " ['MiddleSchool' 'G-07']\n",
            " ['MiddleSchool' 'G-07']\n",
            " ['HighSchool' 'G-09']\n",
            " ['HighSchool' 'G-09']\n",
            " ['HighSchool' 'G-11']\n",
            " ['MiddleSchool' 'G-07']\n",
            " ['MiddleSchool' 'G-07']\n",
            " ['lowerlevel' 'G-02']\n",
            " ['lowerlevel' 'G-02']\n",
            " ['lowerlevel' 'G-02']\n",
            " ['lowerlevel' 'G-02']\n",
            " ['lowerlevel' 'G-02']\n",
            " ['lowerlevel' 'G-02']\n",
            " ['lowerlevel' 'G-02']\n",
            " ['lowerlevel' 'G-02']\n",
            " ['lowerlevel' 'G-02']\n",
            " ['lowerlevel' 'G-02']\n",
            " ['lowerlevel' 'G-02']\n",
            " ['lowerlevel' 'G-02']\n",
            " ['lowerlevel' 'G-02']\n",
            " ['lowerlevel' 'G-02']\n",
            " ['lowerlevel' 'G-02']\n",
            " ['lowerlevel' 'G-02']\n",
            " ['lowerlevel' 'G-02']\n",
            " ['lowerlevel' 'G-02']\n",
            " ['lowerlevel' 'G-02']\n",
            " ['lowerlevel' 'G-02']\n",
            " ['lowerlevel' 'G-02']\n",
            " ['lowerlevel' 'G-02']\n",
            " ['lowerlevel' 'G-02']\n",
            " ['lowerlevel' 'G-02']\n",
            " ['lowerlevel' 'G-02']\n",
            " ['lowerlevel' 'G-02']\n",
            " ['lowerlevel' 'G-02']\n",
            " ['lowerlevel' 'G-02']\n",
            " ['lowerlevel' 'G-02']\n",
            " ['lowerlevel' 'G-02']\n",
            " ['lowerlevel' 'G-02']\n",
            " ['lowerlevel' 'G-02']\n",
            " ['lowerlevel' 'G-02']\n",
            " ['lowerlevel' 'G-02']\n",
            " ['lowerlevel' 'G-02']\n",
            " ['lowerlevel' 'G-02']\n",
            " ['lowerlevel' 'G-02']\n",
            " ['lowerlevel' 'G-02']\n",
            " ['lowerlevel' 'G-02']\n",
            " ['lowerlevel' 'G-02']\n",
            " ['lowerlevel' 'G-02']\n",
            " ['lowerlevel' 'G-02']\n",
            " ['lowerlevel' 'G-02']\n",
            " ['lowerlevel' 'G-02']\n",
            " ['lowerlevel' 'G-02']\n",
            " ['lowerlevel' 'G-02']\n",
            " ['lowerlevel' 'G-02']\n",
            " ['lowerlevel' 'G-02']\n",
            " ['lowerlevel' 'G-02']\n",
            " ['lowerlevel' 'G-02']\n",
            " ['lowerlevel' 'G-02']\n",
            " ['lowerlevel' 'G-02']\n",
            " ['lowerlevel' 'G-02']\n",
            " ['MiddleSchool' 'G-07']\n",
            " ['MiddleSchool' 'G-07']\n",
            " ['HighSchool' 'G-11']\n",
            " ['HighSchool' 'G-11']\n",
            " ['MiddleSchool' 'G-07']\n",
            " ['MiddleSchool' 'G-07']\n",
            " ['MiddleSchool' 'G-07']\n",
            " ['MiddleSchool' 'G-07']\n",
            " ['MiddleSchool' 'G-07']\n",
            " ['MiddleSchool' 'G-07']\n",
            " ['MiddleSchool' 'G-07']\n",
            " ['MiddleSchool' 'G-07']\n",
            " ['MiddleSchool' 'G-07']\n",
            " ['MiddleSchool' 'G-07']\n",
            " ['MiddleSchool' 'G-07']\n",
            " ['MiddleSchool' 'G-07']\n",
            " ['HighSchool' 'G-11']\n",
            " ['HighSchool' 'G-11']\n",
            " ['HighSchool' 'G-11']\n",
            " ['HighSchool' 'G-11']\n",
            " ['HighSchool' 'G-11']\n",
            " ['HighSchool' 'G-11']\n",
            " ['HighSchool' 'G-11']\n",
            " ['HighSchool' 'G-11']\n",
            " ['MiddleSchool' 'G-07']\n",
            " ['MiddleSchool' 'G-07']\n",
            " ['MiddleSchool' 'G-07']\n",
            " ['MiddleSchool' 'G-07']\n",
            " ['lowerlevel' 'G-02']\n",
            " ['lowerlevel' 'G-02']\n",
            " ['lowerlevel' 'G-02']\n",
            " ['lowerlevel' 'G-02']\n",
            " ['lowerlevel' 'G-02']\n",
            " ['lowerlevel' 'G-02']\n",
            " ['lowerlevel' 'G-02']\n",
            " ['lowerlevel' 'G-02']\n",
            " ['lowerlevel' 'G-02']\n",
            " ['lowerlevel' 'G-02']\n",
            " ['lowerlevel' 'G-02']\n",
            " ['lowerlevel' 'G-02']\n",
            " ['lowerlevel' 'G-02']\n",
            " ['lowerlevel' 'G-02']\n",
            " ['lowerlevel' 'G-02']\n",
            " ['lowerlevel' 'G-02']\n",
            " ['lowerlevel' 'G-02']\n",
            " ['lowerlevel' 'G-02']\n",
            " ['lowerlevel' 'G-02']\n",
            " ['lowerlevel' 'G-02']\n",
            " ['MiddleSchool' 'G-08']\n",
            " ['MiddleSchool' 'G-08']\n",
            " ['MiddleSchool' 'G-08']\n",
            " ['MiddleSchool' 'G-08']\n",
            " ['MiddleSchool' 'G-08']\n",
            " ['MiddleSchool' 'G-08']\n",
            " ['MiddleSchool' 'G-08']\n",
            " ['MiddleSchool' 'G-08']\n",
            " ['MiddleSchool' 'G-08']\n",
            " ['MiddleSchool' 'G-08']\n",
            " ['MiddleSchool' 'G-08']\n",
            " ['MiddleSchool' 'G-08']\n",
            " ['MiddleSchool' 'G-08']\n",
            " ['MiddleSchool' 'G-08']\n",
            " ['MiddleSchool' 'G-08']\n",
            " ['MiddleSchool' 'G-08']\n",
            " ['MiddleSchool' 'G-08']\n",
            " ['MiddleSchool' 'G-08']\n",
            " ['MiddleSchool' 'G-08']\n",
            " ['MiddleSchool' 'G-08']\n",
            " ['MiddleSchool' 'G-08']\n",
            " ['MiddleSchool' 'G-08']\n",
            " ['MiddleSchool' 'G-08']\n",
            " ['MiddleSchool' 'G-08']\n",
            " ['MiddleSchool' 'G-08']\n",
            " ['MiddleSchool' 'G-08']\n",
            " ['MiddleSchool' 'G-08']\n",
            " ['MiddleSchool' 'G-08']\n",
            " ['MiddleSchool' 'G-08']\n",
            " ['MiddleSchool' 'G-08']\n",
            " ['MiddleSchool' 'G-08']\n",
            " ['MiddleSchool' 'G-08']\n",
            " ['MiddleSchool' 'G-08']\n",
            " ['MiddleSchool' 'G-08']\n",
            " ['MiddleSchool' 'G-08']\n",
            " ['MiddleSchool' 'G-08']\n",
            " ['MiddleSchool' 'G-08']\n",
            " ['MiddleSchool' 'G-08']\n",
            " ['MiddleSchool' 'G-08']\n",
            " ['MiddleSchool' 'G-08']\n",
            " ['MiddleSchool' 'G-08']\n",
            " ['MiddleSchool' 'G-08']\n",
            " ['MiddleSchool' 'G-08']\n",
            " ['MiddleSchool' 'G-08']\n",
            " ['MiddleSchool' 'G-08']\n",
            " ['MiddleSchool' 'G-08']\n",
            " ['HighSchool' 'G-11']\n",
            " ['MiddleSchool' 'G-08']\n",
            " ['MiddleSchool' 'G-08']\n",
            " ['MiddleSchool' 'G-08']\n",
            " ['MiddleSchool' 'G-07']\n",
            " ['MiddleSchool' 'G-07']\n",
            " ['MiddleSchool' 'G-07']\n",
            " ['MiddleSchool' 'G-07']\n",
            " ['MiddleSchool' 'G-07']\n",
            " ['MiddleSchool' 'G-07']\n",
            " ['MiddleSchool' 'G-07']\n",
            " ['MiddleSchool' 'G-07']\n",
            " ['MiddleSchool' 'G-07']\n",
            " ['MiddleSchool' 'G-07']\n",
            " ['MiddleSchool' 'G-07']\n",
            " ['MiddleSchool' 'G-07']\n",
            " ['MiddleSchool' 'G-07']\n",
            " ['MiddleSchool' 'G-06']\n",
            " ['MiddleSchool' 'G-06']\n",
            " ['MiddleSchool' 'G-06']\n",
            " ['MiddleSchool' 'G-06']\n",
            " ['lowerlevel' 'G-04']\n",
            " ['lowerlevel' 'G-04']\n",
            " ['lowerlevel' 'G-04']\n",
            " ['lowerlevel' 'G-04']\n",
            " ['lowerlevel' 'G-04']\n",
            " ['lowerlevel' 'G-04']\n",
            " ['lowerlevel' 'G-04']\n",
            " ['lowerlevel' 'G-04']\n",
            " ['lowerlevel' 'G-04']\n",
            " ['lowerlevel' 'G-04']\n",
            " ['lowerlevel' 'G-04']\n",
            " ['lowerlevel' 'G-04']\n",
            " ['lowerlevel' 'G-04']\n",
            " ['lowerlevel' 'G-04']\n",
            " ['lowerlevel' 'G-04']\n",
            " ['MiddleSchool' 'G-06']\n",
            " ['MiddleSchool' 'G-06']\n",
            " ['MiddleSchool' 'G-06']\n",
            " ['MiddleSchool' 'G-06']\n",
            " ['MiddleSchool' 'G-06']\n",
            " ['MiddleSchool' 'G-06']\n",
            " ['MiddleSchool' 'G-06']\n",
            " ['MiddleSchool' 'G-06']\n",
            " ['MiddleSchool' 'G-06']\n",
            " ['MiddleSchool' 'G-06']\n",
            " ['MiddleSchool' 'G-06']\n",
            " ['MiddleSchool' 'G-06']\n",
            " ['MiddleSchool' 'G-06']\n",
            " ['MiddleSchool' 'G-06']\n",
            " ['MiddleSchool' 'G-06']\n",
            " ['MiddleSchool' 'G-06']\n",
            " ['MiddleSchool' 'G-06']\n",
            " ['MiddleSchool' 'G-06']\n",
            " ['MiddleSchool' 'G-06']\n",
            " ['MiddleSchool' 'G-06']\n",
            " ['MiddleSchool' 'G-06']\n",
            " ['MiddleSchool' 'G-06']\n",
            " ['MiddleSchool' 'G-06']\n",
            " ['MiddleSchool' 'G-06']\n",
            " ['MiddleSchool' 'G-06']\n",
            " ['MiddleSchool' 'G-06']\n",
            " ['lowerlevel' 'G-04']\n",
            " ['lowerlevel' 'G-04']\n",
            " ['lowerlevel' 'G-04']\n",
            " ['lowerlevel' 'G-04']\n",
            " ['lowerlevel' 'G-04']\n",
            " ['lowerlevel' 'G-04']\n",
            " ['lowerlevel' 'G-04']\n",
            " ['lowerlevel' 'G-04']\n",
            " ['lowerlevel' 'G-04']\n",
            " ['lowerlevel' 'G-04']\n",
            " ['lowerlevel' 'G-04']\n",
            " ['lowerlevel' 'G-04']\n",
            " ['lowerlevel' 'G-04']\n",
            " ['lowerlevel' 'G-04']\n",
            " ['lowerlevel' 'G-04']\n",
            " ['lowerlevel' 'G-04']\n",
            " ['lowerlevel' 'G-04']\n",
            " ['lowerlevel' 'G-04']\n",
            " ['lowerlevel' 'G-04']\n",
            " ['lowerlevel' 'G-04']\n",
            " ['lowerlevel' 'G-04']\n",
            " ['lowerlevel' 'G-04']\n",
            " ['lowerlevel' 'G-04']\n",
            " ['lowerlevel' 'G-04']\n",
            " ['lowerlevel' 'G-04']\n",
            " ['lowerlevel' 'G-04']\n",
            " ['lowerlevel' 'G-02']\n",
            " ['lowerlevel' 'G-02']\n",
            " ['lowerlevel' 'G-02']\n",
            " ['lowerlevel' 'G-02']\n",
            " ['lowerlevel' 'G-02']\n",
            " ['lowerlevel' 'G-02']\n",
            " ['lowerlevel' 'G-02']\n",
            " ['lowerlevel' 'G-02']\n",
            " ['lowerlevel' 'G-02']\n",
            " ['lowerlevel' 'G-02']\n",
            " ['lowerlevel' 'G-02']\n",
            " ['lowerlevel' 'G-02']\n",
            " ['lowerlevel' 'G-02']\n",
            " ['lowerlevel' 'G-02']\n",
            " ['lowerlevel' 'G-02']\n",
            " ['lowerlevel' 'G-02']\n",
            " ['lowerlevel' 'G-02']\n",
            " ['lowerlevel' 'G-02']\n",
            " ['lowerlevel' 'G-02']\n",
            " ['lowerlevel' 'G-02']\n",
            " ['lowerlevel' 'G-02']\n",
            " ['lowerlevel' 'G-02']\n",
            " ['lowerlevel' 'G-02']\n",
            " ['lowerlevel' 'G-02']\n",
            " ['lowerlevel' 'G-02']\n",
            " ['lowerlevel' 'G-02']\n",
            " ['lowerlevel' 'G-02']\n",
            " ['lowerlevel' 'G-02']\n",
            " ['lowerlevel' 'G-02']\n",
            " ['lowerlevel' 'G-02']\n",
            " ['lowerlevel' 'G-02']\n",
            " ['lowerlevel' 'G-02']\n",
            " ['lowerlevel' 'G-02']\n",
            " ['lowerlevel' 'G-02']\n",
            " ['lowerlevel' 'G-02']\n",
            " ['lowerlevel' 'G-02']\n",
            " ['lowerlevel' 'G-02']\n",
            " ['lowerlevel' 'G-02']\n",
            " ['lowerlevel' 'G-02']\n",
            " ['lowerlevel' 'G-02']\n",
            " ['lowerlevel' 'G-02']\n",
            " ['lowerlevel' 'G-02']\n",
            " ['lowerlevel' 'G-02']\n",
            " ['lowerlevel' 'G-02']\n",
            " ['lowerlevel' 'G-02']\n",
            " ['lowerlevel' 'G-02']\n",
            " ['lowerlevel' 'G-02']\n",
            " ['lowerlevel' 'G-02']\n",
            " ['lowerlevel' 'G-02']\n",
            " ['lowerlevel' 'G-02']\n",
            " ['lowerlevel' 'G-02']\n",
            " ['lowerlevel' 'G-02']\n",
            " ['lowerlevel' 'G-02']\n",
            " ['lowerlevel' 'G-02']\n",
            " ['lowerlevel' 'G-02']\n",
            " ['lowerlevel' 'G-02']\n",
            " ['lowerlevel' 'G-02']\n",
            " ['lowerlevel' 'G-02']\n",
            " ['lowerlevel' 'G-02']\n",
            " ['lowerlevel' 'G-02']\n",
            " ['lowerlevel' 'G-02']\n",
            " ['lowerlevel' 'G-02']\n",
            " ['lowerlevel' 'G-02']\n",
            " ['lowerlevel' 'G-02']\n",
            " ['lowerlevel' 'G-02']\n",
            " ['lowerlevel' 'G-02']\n",
            " ['lowerlevel' 'G-02']\n",
            " ['lowerlevel' 'G-02']\n",
            " ['lowerlevel' 'G-02']\n",
            " ['lowerlevel' 'G-02']\n",
            " ['lowerlevel' 'G-02']\n",
            " ['lowerlevel' 'G-02']\n",
            " ['MiddleSchool' 'G-07']\n",
            " ['MiddleSchool' 'G-07']\n",
            " ['MiddleSchool' 'G-07']\n",
            " ['MiddleSchool' 'G-07']\n",
            " ['MiddleSchool' 'G-07']\n",
            " ['MiddleSchool' 'G-07']\n",
            " ['MiddleSchool' 'G-07']\n",
            " ['MiddleSchool' 'G-07']\n",
            " ['MiddleSchool' 'G-07']\n",
            " ['MiddleSchool' 'G-07']\n",
            " ['MiddleSchool' 'G-07']\n",
            " ['MiddleSchool' 'G-07']\n",
            " ['MiddleSchool' 'G-07']\n",
            " ['MiddleSchool' 'G-07']\n",
            " ['MiddleSchool' 'G-07']\n",
            " ['MiddleSchool' 'G-07']\n",
            " ['MiddleSchool' 'G-07']\n",
            " ['MiddleSchool' 'G-07']\n",
            " ['MiddleSchool' 'G-07']\n",
            " ['MiddleSchool' 'G-07']\n",
            " ['MiddleSchool' 'G-07']\n",
            " ['MiddleSchool' 'G-07']\n",
            " ['MiddleSchool' 'G-07']\n",
            " ['MiddleSchool' 'G-07']\n",
            " ['MiddleSchool' 'G-07']\n",
            " ['MiddleSchool' 'G-07']\n",
            " ['MiddleSchool' 'G-07']\n",
            " ['MiddleSchool' 'G-07']\n",
            " ['MiddleSchool' 'G-07']\n",
            " ['MiddleSchool' 'G-07']\n",
            " ['MiddleSchool' 'G-08']\n",
            " ['MiddleSchool' 'G-08']\n",
            " ['MiddleSchool' 'G-08']\n",
            " ['MiddleSchool' 'G-08']\n",
            " ['MiddleSchool' 'G-08']\n",
            " ['MiddleSchool' 'G-08']\n",
            " ['MiddleSchool' 'G-08']\n",
            " ['MiddleSchool' 'G-08']\n",
            " ['MiddleSchool' 'G-08']\n",
            " ['MiddleSchool' 'G-08']\n",
            " ['MiddleSchool' 'G-08']\n",
            " ['MiddleSchool' 'G-08']\n",
            " ['MiddleSchool' 'G-08']\n",
            " ['MiddleSchool' 'G-08']\n",
            " ['MiddleSchool' 'G-08']\n",
            " ['MiddleSchool' 'G-08']\n",
            " ['MiddleSchool' 'G-08']\n",
            " ['MiddleSchool' 'G-08']\n",
            " ['MiddleSchool' 'G-08']\n",
            " ['MiddleSchool' 'G-08']\n",
            " ['MiddleSchool' 'G-08']\n",
            " ['MiddleSchool' 'G-08']\n",
            " ['MiddleSchool' 'G-08']\n",
            " ['MiddleSchool' 'G-08']\n",
            " ['MiddleSchool' 'G-08']\n",
            " ['MiddleSchool' 'G-08']\n",
            " ['MiddleSchool' 'G-08']\n",
            " ['MiddleSchool' 'G-08']\n",
            " ['MiddleSchool' 'G-08']\n",
            " ['MiddleSchool' 'G-08']\n",
            " ['MiddleSchool' 'G-08']\n",
            " ['MiddleSchool' 'G-08']\n",
            " ['MiddleSchool' 'G-08']\n",
            " ['MiddleSchool' 'G-08']\n",
            " ['MiddleSchool' 'G-08']\n",
            " ['MiddleSchool' 'G-08']\n",
            " ['MiddleSchool' 'G-08']\n",
            " ['MiddleSchool' 'G-08']\n",
            " ['MiddleSchool' 'G-08']\n",
            " ['MiddleSchool' 'G-08']\n",
            " ['MiddleSchool' 'G-08']\n",
            " ['MiddleSchool' 'G-08']\n",
            " ['MiddleSchool' 'G-08']\n",
            " ['MiddleSchool' 'G-08']\n",
            " ['MiddleSchool' 'G-08']\n",
            " ['MiddleSchool' 'G-08']\n",
            " ['MiddleSchool' 'G-08']\n",
            " ['MiddleSchool' 'G-08']\n",
            " ['MiddleSchool' 'G-08']\n",
            " ['MiddleSchool' 'G-08']\n",
            " ['MiddleSchool' 'G-08']\n",
            " ['MiddleSchool' 'G-08']\n",
            " ['MiddleSchool' 'G-08']\n",
            " ['MiddleSchool' 'G-08']\n",
            " ['MiddleSchool' 'G-08']\n",
            " ['MiddleSchool' 'G-08']\n",
            " ['MiddleSchool' 'G-08']\n",
            " ['MiddleSchool' 'G-08']\n",
            " ['MiddleSchool' 'G-08']\n",
            " ['MiddleSchool' 'G-08']]\n"
          ]
        }
      ]
    },
    {
      "cell_type": "markdown",
      "source": [
        "Handling Categorical Data"
      ],
      "metadata": {
        "id": "3cwPn_61pWJa"
      }
    },
    {
      "cell_type": "code",
      "source": [
        "from sklearn.compose import ColumnTransformer\n",
        "from sklearn.preprocessing import OneHotEncoder\n",
        "\n",
        "ct = ColumnTransformer(transformers=[('enconder', OneHotEncoder(), [0])], remainder='passthrough')\n",
        "y = np.array(ct.fit_transform(y))\n",
        "print(y)"
      ],
      "metadata": {
        "colab": {
          "base_uri": "https://localhost:8080/",
          "height": 378
        },
        "id": "fd0MZURepYk9",
        "outputId": "05e1d74f-4b69-4bcf-eae0-aa0c51f2af68"
      },
      "execution_count": null,
      "outputs": [
        {
          "output_type": "error",
          "ename": "IndexError",
          "evalue": "ignored",
          "traceback": [
            "\u001b[0;31m---------------------------------------------------------------------------\u001b[0m",
            "\u001b[0;31mIndexError\u001b[0m                                Traceback (most recent call last)",
            "\u001b[0;32m<ipython-input-38-03267264ee5a>\u001b[0m in \u001b[0;36m<module>\u001b[0;34m()\u001b[0m\n\u001b[1;32m      3\u001b[0m \u001b[0;34m\u001b[0m\u001b[0m\n\u001b[1;32m      4\u001b[0m \u001b[0mct\u001b[0m \u001b[0;34m=\u001b[0m \u001b[0mColumnTransformer\u001b[0m\u001b[0;34m(\u001b[0m\u001b[0mtransformers\u001b[0m\u001b[0;34m=\u001b[0m\u001b[0;34m[\u001b[0m\u001b[0;34m(\u001b[0m\u001b[0;34m'enconder'\u001b[0m\u001b[0;34m,\u001b[0m \u001b[0mOneHotEncoder\u001b[0m\u001b[0;34m(\u001b[0m\u001b[0;34m)\u001b[0m\u001b[0;34m,\u001b[0m \u001b[0;34m[\u001b[0m\u001b[0;36m0\u001b[0m\u001b[0;34m]\u001b[0m\u001b[0;34m)\u001b[0m\u001b[0;34m]\u001b[0m\u001b[0;34m,\u001b[0m \u001b[0mremainder\u001b[0m\u001b[0;34m=\u001b[0m\u001b[0;34m'passthrough'\u001b[0m\u001b[0;34m)\u001b[0m\u001b[0;34m\u001b[0m\u001b[0;34m\u001b[0m\u001b[0m\n\u001b[0;32m----> 5\u001b[0;31m \u001b[0my\u001b[0m \u001b[0;34m=\u001b[0m \u001b[0mnp\u001b[0m\u001b[0;34m.\u001b[0m\u001b[0marray\u001b[0m\u001b[0;34m(\u001b[0m\u001b[0mct\u001b[0m\u001b[0;34m.\u001b[0m\u001b[0mfit_transform\u001b[0m\u001b[0;34m(\u001b[0m\u001b[0my\u001b[0m\u001b[0;34m)\u001b[0m\u001b[0;34m)\u001b[0m\u001b[0;34m\u001b[0m\u001b[0;34m\u001b[0m\u001b[0m\n\u001b[0m\u001b[1;32m      6\u001b[0m \u001b[0mprint\u001b[0m\u001b[0;34m(\u001b[0m\u001b[0my\u001b[0m\u001b[0;34m)\u001b[0m\u001b[0;34m\u001b[0m\u001b[0;34m\u001b[0m\u001b[0m\n",
            "\u001b[0;32m/usr/local/lib/python3.7/dist-packages/sklearn/compose/_column_transformer.py\u001b[0m in \u001b[0;36mfit_transform\u001b[0;34m(self, X, y)\u001b[0m\n\u001b[1;32m    670\u001b[0m         \u001b[0mself\u001b[0m\u001b[0;34m.\u001b[0m\u001b[0m_check_n_features\u001b[0m\u001b[0;34m(\u001b[0m\u001b[0mX\u001b[0m\u001b[0;34m,\u001b[0m \u001b[0mreset\u001b[0m\u001b[0;34m=\u001b[0m\u001b[0;32mTrue\u001b[0m\u001b[0;34m)\u001b[0m\u001b[0;34m\u001b[0m\u001b[0;34m\u001b[0m\u001b[0m\n\u001b[1;32m    671\u001b[0m         \u001b[0mself\u001b[0m\u001b[0;34m.\u001b[0m\u001b[0m_validate_transformers\u001b[0m\u001b[0;34m(\u001b[0m\u001b[0;34m)\u001b[0m\u001b[0;34m\u001b[0m\u001b[0;34m\u001b[0m\u001b[0m\n\u001b[0;32m--> 672\u001b[0;31m         \u001b[0mself\u001b[0m\u001b[0;34m.\u001b[0m\u001b[0m_validate_column_callables\u001b[0m\u001b[0;34m(\u001b[0m\u001b[0mX\u001b[0m\u001b[0;34m)\u001b[0m\u001b[0;34m\u001b[0m\u001b[0;34m\u001b[0m\u001b[0m\n\u001b[0m\u001b[1;32m    673\u001b[0m         \u001b[0mself\u001b[0m\u001b[0;34m.\u001b[0m\u001b[0m_validate_remainder\u001b[0m\u001b[0;34m(\u001b[0m\u001b[0mX\u001b[0m\u001b[0;34m)\u001b[0m\u001b[0;34m\u001b[0m\u001b[0;34m\u001b[0m\u001b[0m\n\u001b[1;32m    674\u001b[0m \u001b[0;34m\u001b[0m\u001b[0m\n",
            "\u001b[0;32m/usr/local/lib/python3.7/dist-packages/sklearn/compose/_column_transformer.py\u001b[0m in \u001b[0;36m_validate_column_callables\u001b[0;34m(self, X)\u001b[0m\n\u001b[1;32m    350\u001b[0m                 \u001b[0mcolumns\u001b[0m \u001b[0;34m=\u001b[0m \u001b[0mcolumns\u001b[0m\u001b[0;34m(\u001b[0m\u001b[0mX\u001b[0m\u001b[0;34m)\u001b[0m\u001b[0;34m\u001b[0m\u001b[0;34m\u001b[0m\u001b[0m\n\u001b[1;32m    351\u001b[0m             \u001b[0mall_columns\u001b[0m\u001b[0;34m.\u001b[0m\u001b[0mappend\u001b[0m\u001b[0;34m(\u001b[0m\u001b[0mcolumns\u001b[0m\u001b[0;34m)\u001b[0m\u001b[0;34m\u001b[0m\u001b[0;34m\u001b[0m\u001b[0m\n\u001b[0;32m--> 352\u001b[0;31m             \u001b[0mtransformer_to_input_indices\u001b[0m\u001b[0;34m[\u001b[0m\u001b[0mname\u001b[0m\u001b[0;34m]\u001b[0m \u001b[0;34m=\u001b[0m \u001b[0m_get_column_indices\u001b[0m\u001b[0;34m(\u001b[0m\u001b[0mX\u001b[0m\u001b[0;34m,\u001b[0m \u001b[0mcolumns\u001b[0m\u001b[0;34m)\u001b[0m\u001b[0;34m\u001b[0m\u001b[0;34m\u001b[0m\u001b[0m\n\u001b[0m\u001b[1;32m    353\u001b[0m \u001b[0;34m\u001b[0m\u001b[0m\n\u001b[1;32m    354\u001b[0m         \u001b[0mself\u001b[0m\u001b[0;34m.\u001b[0m\u001b[0m_columns\u001b[0m \u001b[0;34m=\u001b[0m \u001b[0mall_columns\u001b[0m\u001b[0;34m\u001b[0m\u001b[0;34m\u001b[0m\u001b[0m\n",
            "\u001b[0;32m/usr/local/lib/python3.7/dist-packages/sklearn/utils/__init__.py\u001b[0m in \u001b[0;36m_get_column_indices\u001b[0;34m(X, key)\u001b[0m\n\u001b[1;32m    387\u001b[0m     \u001b[0;34m:\u001b[0m\u001b[0mfunc\u001b[0m\u001b[0;34m:\u001b[0m\u001b[0;31m`\u001b[0m\u001b[0m_safe_indexing_column\u001b[0m\u001b[0;31m`\u001b[0m\u001b[0;34m.\u001b[0m\u001b[0;34m\u001b[0m\u001b[0;34m\u001b[0m\u001b[0m\n\u001b[1;32m    388\u001b[0m     \"\"\"\n\u001b[0;32m--> 389\u001b[0;31m     \u001b[0mn_columns\u001b[0m \u001b[0;34m=\u001b[0m \u001b[0mX\u001b[0m\u001b[0;34m.\u001b[0m\u001b[0mshape\u001b[0m\u001b[0;34m[\u001b[0m\u001b[0;36m1\u001b[0m\u001b[0;34m]\u001b[0m\u001b[0;34m\u001b[0m\u001b[0;34m\u001b[0m\u001b[0m\n\u001b[0m\u001b[1;32m    390\u001b[0m \u001b[0;34m\u001b[0m\u001b[0m\n\u001b[1;32m    391\u001b[0m     \u001b[0mkey_dtype\u001b[0m \u001b[0;34m=\u001b[0m \u001b[0m_determine_key_type\u001b[0m\u001b[0;34m(\u001b[0m\u001b[0mkey\u001b[0m\u001b[0;34m)\u001b[0m\u001b[0;34m\u001b[0m\u001b[0;34m\u001b[0m\u001b[0m\n",
            "\u001b[0;31mIndexError\u001b[0m: tuple index out of range"
          ]
        }
      ]
    },
    {
      "cell_type": "code",
      "source": [
        "print(y)"
      ],
      "metadata": {
        "colab": {
          "base_uri": "https://localhost:8080/"
        },
        "id": "bM1pAcYmqoC6",
        "outputId": "d049364e-593d-4b3c-a088-b4d37a6f4e75"
      },
      "execution_count": null,
      "outputs": [
        {
          "output_type": "stream",
          "name": "stdout",
          "text": [
            "[20 25 30 35 50 70 17 22 50 70 80 12 11 19 60 66 80 90 96 99 90 80 90 50\n",
            " 70 40 40 33 43 35 70 16 50 40 40 30 22 90  4 70 70 50 33 90 90 70 30 90\n",
            " 88 77 70 50 40 75 30 20  1  5 50 40 20 40 80 12  2 19 30 80 30 33 12 20\n",
            "  8 19 13 60 44 33  9 55 40 70 80 50 10 12 50 50 33 50 60 19 15 40 10 70\n",
            " 75 12 30 50 90  7  8 10  3 80 40 33  3 14 40 80 50 69 50 70 19 17 22 60\n",
            " 50 30 12  5 15 17 55  9 16  2 30 50  3 70 70 70 70 40 90 70 20 10 11 19\n",
            " 19 11 70 30 40 70 59 89 40 40 41 91 49 40 10 80 50 66 73 43 14 66 43 43\n",
            " 33 23 33 33 13 33 43 53 33 11 13 33 93 33 53 53 13 33 53 51 53 23 53 13\n",
            " 53 53 23 33 53 53 53 13 83 43 33 40 24 24 14 14 14 84 14 14 19 14  4 14\n",
            " 61 10 94 34 13 24 40 90 70 30 30 10 81 10 29 20 50 46 66 26  6 66 66 76\n",
            " 96 86  6 46 85 66 77 96 16 40 40 17 94 44 70 40 60 65 95 17 14 64 34  7\n",
            " 32 37 17 29 10 20 30 36 16 26 70 60 26 27 25 27 37 37 80 86 36 39 89 85\n",
            " 69 80 44 24 74 84 74 84 84 89 34 29 13  9 23 39 43 89 83 89 89 79 33 39\n",
            " 43 49 83 89 23 13  3 10 11 15 21  5 31 35 83 80 41 33 21 23  3  7 21 20\n",
            " 11 14 11 10 41 33 14 30 14 30  3  7  6 10 11 13 21 23 25 27 15 17 28 38\n",
            " 38 39 28 29 38 48 31 34 21 23 97 98 51 23 61 63 91 83 98 93 28 33 28 23\n",
            " 97 88  7  8 10 12 20 22 40 72 61 63 81 83 26 22 86 82 70 72  1  3 31 33\n",
            " 21 43 51 83  1  3 71 83 81 84 31 43 45 43 79 68 11 13 41 49 61 68 81 98\n",
            " 10 20 30 23 19 29 15 10 75 70 39 40 79 80 89 85 10  2 20 12 80 72 30 22\n",
            " 81 83 71 72 89 92 90 92 58 60 80 85 41 53 68 70  8  8 28 29 57 62]\n"
          ]
        }
      ]
    },
    {
      "cell_type": "markdown",
      "source": [
        "Label Encoding"
      ],
      "metadata": {
        "id": "_9J-WkyAq0TI"
      }
    },
    {
      "cell_type": "code",
      "source": [
        "# Encoding the target variable\n",
        "from sklearn.preprocessing import LabelEncoder\n",
        "le = LabelEncoder()\n",
        "y = le.fit_transform(y)\n",
        "print(y)"
      ],
      "metadata": {
        "colab": {
          "base_uri": "https://localhost:8080/"
        },
        "id": "lzSSt14Dq5mI",
        "outputId": "82db5966-4fc7-404d-b493-d773faacf25f"
      },
      "execution_count": null,
      "outputs": [
        {
          "output_type": "stream",
          "name": "stdout",
          "text": [
            "[18 23 28 33 46 62 16 20 46 62 71 11 10 17 53 59 71 80 86 89 80 71 80 46\n",
            " 62 38 38 31 40 33 62 15 46 38 38 28 20 80  3 62 62 46 31 80 80 62 28 80\n",
            " 78 69 62 46 38 67 28 18  0  4 46 38 18 38 71 11  1 17 28 71 28 31 11 18\n",
            "  7 17 12 53 41 31  8 49 38 62 71 46  9 11 46 46 31 46 53 17 14 38  9 62\n",
            " 67 11 28 46 80  6  7  9  2 71 38 31  2 13 38 71 46 61 46 62 17 16 20 53\n",
            " 46 28 11  4 14 16 49  8 15  1 28 46  2 62 62 62 62 38 80 62 18  9 10 17\n",
            " 17 10 62 28 38 62 52 79 38 38 39 81 45 38  9 71 46 59 65 40 13 59 40 40\n",
            " 31 21 31 31 12 31 40 48 31 10 12 31 83 31 48 48 12 31 48 47 48 21 48 12\n",
            " 48 48 21 31 48 48 48 12 74 40 31 38 22 22 13 13 13 75 13 13 17 13  3 13\n",
            " 54  9 84 32 12 22 38 80 62 28 28  9 72  9 27 18 46 43 59 24  5 59 59 68\n",
            " 86 77  5 43 76 59 69 86 15 38 38 16 84 41 62 38 53 58 85 16 13 57 32  6\n",
            " 30 35 16 27  9 18 28 34 15 24 62 53 24 25 23 25 35 35 71 77 34 37 79 76\n",
            " 61 71 41 22 66 75 66 75 75 79 32 27 12  8 21 37 40 79 74 79 79 70 31 37\n",
            " 40 45 74 79 21 12  2  9 10 14 19  4 29 33 74 71 39 31 19 21  2  6 19 18\n",
            " 10 13 10  9 39 31 13 28 13 28  2  6  5  9 10 12 19 21 23 25 14 16 26 36\n",
            " 36 37 26 27 36 44 29 32 19 21 87 88 47 21 54 56 81 74 88 83 26 31 26 21\n",
            " 87 78  6  7  9 11 18 20 38 64 54 56 72 74 24 20 77 73 62 64  0  2 29 31\n",
            " 19 40 47 74  0  2 63 74 72 75 29 40 42 40 70 60 10 12 39 45 54 60 72 88\n",
            "  9 18 28 21 17 27 14  9 67 62 37 38 70 71 79 76  9  1 18 11 71 64 28 20\n",
            " 72 74 63 64 79 82 80 82 51 53 71 76 39 48 60 62  7  7 26 27 50 55]\n"
          ]
        }
      ]
    },
    {
      "cell_type": "markdown",
      "source": [
        "Splitting Data for Training & Testing"
      ],
      "metadata": {
        "id": "tlRK8FiwrCm1"
      }
    },
    {
      "cell_type": "code",
      "source": [
        "from sklearn.model_selection import train_test_split\n",
        "X_train, X_test, y_train, y_test = train_test_split(X, y, test_size=0.2, random_state=2)"
      ],
      "metadata": {
        "id": "yBfO9XRtrDlo"
      },
      "execution_count": null,
      "outputs": []
    },
    {
      "cell_type": "code",
      "source": [
        "print(X_train)"
      ],
      "metadata": {
        "colab": {
          "base_uri": "https://localhost:8080/"
        },
        "id": "1sEgg9i4rJ8Z",
        "outputId": "77891003-5b66-44e2-8ff1-1041ae5837d5"
      },
      "execution_count": null,
      "outputs": [
        {
          "output_type": "stream",
          "name": "stdout",
          "text": [
            "[['Jordan' 'MiddleSchool' 'G-06']\n",
            " ['KuwaIT' 'MiddleSchool' 'G-07']\n",
            " ['lebanon' 'MiddleSchool' 'G-07']\n",
            " ...\n",
            " ['KuwaIT' 'MiddleSchool' 'G-07']\n",
            " ['KuwaIT' 'MiddleSchool' 'G-06']\n",
            " ['KuwaIT' 'lowerlevel' 'G-02']]\n"
          ]
        }
      ]
    },
    {
      "cell_type": "code",
      "source": [
        "print(X_test)"
      ],
      "metadata": {
        "colab": {
          "base_uri": "https://localhost:8080/"
        },
        "id": "Oo-oLZPCrTbx",
        "outputId": "d2be9f89-03d9-4da4-f769-029d96cec181"
      },
      "execution_count": null,
      "outputs": [
        {
          "output_type": "stream",
          "name": "stdout",
          "text": [
            "[['Jordan' 'lowerlevel' 'G-02']\n",
            " ['Tunis' 'lowerlevel' 'G-02']\n",
            " ['Jordan' 'MiddleSchool' 'G-06']\n",
            " ['SaudiArabia' 'MiddleSchool' 'G-08']\n",
            " ['KuwaIT' 'lowerlevel' 'G-04']\n",
            " ['Jordan' 'MiddleSchool' 'G-07']\n",
            " ['Iraq' 'MiddleSchool' 'G-06']\n",
            " ['USA' 'lowerlevel' 'G-02']\n",
            " ['KuwaIT' 'MiddleSchool' 'G-07']\n",
            " ['KuwaIT' 'MiddleSchool' 'G-08']\n",
            " ['Jordan' 'lowerlevel' 'G-02']\n",
            " ['USA' 'HighSchool' 'G-12']\n",
            " ['Jordan' 'MiddleSchool' 'G-08']\n",
            " ['Jordan' 'lowerlevel' 'G-02']\n",
            " ['Jordan' 'MiddleSchool' 'G-06']\n",
            " ['lebanon' 'MiddleSchool' 'G-08']\n",
            " ['KuwaIT' 'MiddleSchool' 'G-07']\n",
            " ['Iran' 'lowerlevel' 'G-02']\n",
            " ['KuwaIT' 'lowerlevel' 'G-04']\n",
            " ['Jordan' 'MiddleSchool' 'G-07']\n",
            " ['SaudiArabia' 'MiddleSchool' 'G-08']\n",
            " ['KuwaIT' 'lowerlevel' 'G-02']\n",
            " ['KuwaIT' 'lowerlevel' 'G-02']\n",
            " ['Morocco' 'MiddleSchool' 'G-08']\n",
            " ['Iraq' 'lowerlevel' 'G-02']\n",
            " ['KuwaIT' 'MiddleSchool' 'G-07']\n",
            " ['Jordan' 'MiddleSchool' 'G-06']\n",
            " ['lebanon' 'lowerlevel' 'G-02']\n",
            " ['Jordan' 'MiddleSchool' 'G-08']\n",
            " ['Iraq' 'lowerlevel' 'G-02']\n",
            " ['Syria' 'MiddleSchool' 'G-07']\n",
            " ['KuwaIT' 'lowerlevel' 'G-02']\n",
            " ['KuwaIT' 'MiddleSchool' 'G-07']\n",
            " ['Jordan' 'MiddleSchool' 'G-08']\n",
            " ['KuwaIT' 'HighSchool' 'G-09']\n",
            " ['KuwaIT' 'HighSchool' 'G-12']\n",
            " ['SaudiArabia' 'HighSchool' 'G-11']\n",
            " ['Lybia' 'lowerlevel' 'G-02']\n",
            " ['SaudiArabia' 'lowerlevel' 'G-02']\n",
            " ['Jordan' 'MiddleSchool' 'G-07']\n",
            " ['KuwaIT' 'lowerlevel' 'G-02']\n",
            " ['Jordan' 'lowerlevel' 'G-02']\n",
            " ['KuwaIT' 'lowerlevel' 'G-07']\n",
            " ['lebanon' 'MiddleSchool' 'G-06']\n",
            " ['Iraq' 'MiddleSchool' 'G-06']\n",
            " ['Jordan' 'MiddleSchool' 'G-08']\n",
            " ['lebanon' 'MiddleSchool' 'G-06']\n",
            " ['Morocco' 'lowerlevel' 'G-02']\n",
            " ['Palestine' 'MiddleSchool' 'G-07']\n",
            " ['KuwaIT' 'MiddleSchool' 'G-08']\n",
            " ['Jordan' 'MiddleSchool' 'G-08']\n",
            " ['KuwaIT' 'MiddleSchool' 'G-07']\n",
            " ['Jordan' 'MiddleSchool' 'G-06']\n",
            " ['KuwaIT' 'HighSchool' 'G-12']\n",
            " ['Jordan' 'lowerlevel' 'G-02']\n",
            " ['Iraq' 'MiddleSchool' 'G-08']\n",
            " ['Jordan' 'MiddleSchool' 'G-08']\n",
            " ['Iraq' 'lowerlevel' 'G-02']\n",
            " ['KuwaIT' 'MiddleSchool' 'G-08']\n",
            " ['Jordan' 'lowerlevel' 'G-04']\n",
            " ['KuwaIT' 'MiddleSchool' 'G-08']\n",
            " ['Lybia' 'lowerlevel' 'G-02']\n",
            " ['KuwaIT' 'lowerlevel' 'G-02']\n",
            " ['Syria' 'lowerlevel' 'G-02']\n",
            " ['KuwaIT' 'MiddleSchool' 'G-07']\n",
            " ['KuwaIT' 'lowerlevel' 'G-02']\n",
            " ['KuwaIT' 'MiddleSchool' 'G-07']\n",
            " ['Jordan' 'MiddleSchool' 'G-08']\n",
            " ['Jordan' 'MiddleSchool' 'G-08']\n",
            " ['Jordan' 'MiddleSchool' 'G-06']\n",
            " ['Jordan' 'lowerlevel' 'G-02']\n",
            " ['Jordan' 'MiddleSchool' 'G-07']\n",
            " ['KuwaIT' 'MiddleSchool' 'G-08']\n",
            " ['Jordan' 'lowerlevel' 'G-04']\n",
            " ['Jordan' 'lowerlevel' 'G-02']\n",
            " ['KuwaIT' 'MiddleSchool' 'G-08']\n",
            " ['KuwaIT' 'lowerlevel' 'G-04']\n",
            " ['KuwaIT' 'lowerlevel' 'G-02']\n",
            " ['USA' 'HighSchool' 'G-11']\n",
            " ['Jordan' 'lowerlevel' 'G-04']\n",
            " ['KuwaIT' 'MiddleSchool' 'G-08']\n",
            " ['Jordan' 'MiddleSchool' 'G-06']\n",
            " ['KuwaIT' 'lowerlevel' 'G-04']\n",
            " ['KuwaIT' 'MiddleSchool' 'G-07']\n",
            " ['Jordan' 'MiddleSchool' 'G-08']\n",
            " ['Jordan' 'lowerlevel' 'G-02']\n",
            " ['Iraq' 'lowerlevel' 'G-04']\n",
            " ['Jordan' 'MiddleSchool' 'G-08']\n",
            " ['Jordan' 'lowerlevel' 'G-02']\n",
            " ['KuwaIT' 'lowerlevel' 'G-02']\n",
            " ['Egypt' 'lowerlevel' 'G-02']\n",
            " ['Iran' 'lowerlevel' 'G-02']\n",
            " ['KuwaIT' 'HighSchool' 'G-11']\n",
            " ['Jordan' 'lowerlevel' 'G-02']\n",
            " ['Jordan' 'lowerlevel' 'G-02']\n",
            " ['KuwaIT' 'MiddleSchool' 'G-07']]\n"
          ]
        }
      ]
    },
    {
      "cell_type": "code",
      "source": [
        "print(y_train)"
      ],
      "metadata": {
        "colab": {
          "base_uri": "https://localhost:8080/"
        },
        "id": "5HrpqMrrrYlZ",
        "outputId": "65b5cd8b-b8a1-488b-842f-02069fea09f1"
      },
      "execution_count": null,
      "outputs": [
        {
          "output_type": "stream",
          "name": "stdout",
          "text": [
            "[71 20 62 79 64 75 54 23 10 63  1 40 16 81 82 48 22 28 16 72 20 25 14 79\n",
            " 20 46 64 38 31 80 11 80 21 76 39 62 79 71 30 80 63 48  9 39 53  2 60 38\n",
            " 18 33 72 10 10 22 48 18  9 17 46 37 70 33 31 54 47 53  6 48 71 40 88 77\n",
            "  3 17 71 21 74 26 38 83 37 48 16  2 27 16 28 40 62 46 12 29 46 71 15  9\n",
            " 24 28 37 28 85 59 28 21 20 64 82 47 17 18 70 71  9 79 48 21 11 19 13 35\n",
            " 31 44 49 72 19  8 27  4  0 28 79 43 74 12 40 38 17 19 34  9 12 46 45 14\n",
            " 31 23 11 48 62 76 71 40 22 74 39 28 46 62  2 74 40 13 71 77  2 41 32 74\n",
            " 21 71 19 18 46  1 28 38 51 19 79  6 38  6 24 62 80 61 12 18 13 62 57 23\n",
            " 49 28 62 18 87 13 12 40 13 74  5 56 62 72 62  2 64 26 20 78 32 41 10 11\n",
            " 13 28 10 79 48 58 62 67 54 31 46 20  1 17 12 59 71 71 15 75  7  5  8 31\n",
            " 28 77 12 83 88 32 11 10 38 62 40 72 38 53 11 66 14 59 71 18 31 38 38 14\n",
            " 10 47 38 68 45 10  2  9 17 24 38 31 56 13 31 62  4 37 71 62 54  9 79  7\n",
            " 28 11 16 38 62 55 29 78  0 89 46 74 69 38 21 38 75 80 62 41 42 38 61 80\n",
            " 67 46 84 29 37 31 17 21 15 29 73 86 38 43 34 62 75 69 13 80 79  2 62 59\n",
            " 38 38 15 28 13 12 21 48 31 33  4 38 26 46 38  3 36 46 27 39 13  7 31 40\n",
            " 75 17 14  0 84 76  9 80 13 62 62 18 65  6 36 53 71 27 80  7 59 31]\n"
          ]
        }
      ]
    },
    {
      "cell_type": "code",
      "source": [
        "print(y_test)"
      ],
      "metadata": {
        "colab": {
          "base_uri": "https://localhost:8080/"
        },
        "id": "ydUGbg9mrdH5",
        "outputId": "51c67145-d0f6-444a-cd4f-5d3902d8f99a"
      },
      "execution_count": null,
      "outputs": [
        {
          "output_type": "stream",
          "name": "stdout",
          "text": [
            "[19 31  9 22 16 11 35 40 80 28 18 71 70 21 25 48 62 12 53  5 60  9 31 48\n",
            " 26 86 16 12 60 31 46 46 18  9 31 17 52  6  7 59 31 32 46 53 35 18 62 59\n",
            " 74  9 50 62 24 28 46 74 21 26 13 45 28  2  9 31 62 46 46 27 40 25 39 31\n",
            " 53  8 21 38 10 80 81 12  9 27 28 38  9 87 66 76 88 13  9 48 67 36 31 86]\n"
          ]
        }
      ]
    },
    {
      "cell_type": "markdown",
      "source": [
        "Feature Scaling"
      ],
      "metadata": {
        "id": "2Dhj-PRDrgzs"
      }
    },
    {
      "cell_type": "code",
      "source": [
        "from sklearn.preprocessing import StandardScaler\n",
        "sc = StandardScaler()\n",
        "y_train[:, 4:] = sc.fit_transform(y_train[:, 4:])\n"
      ],
      "metadata": {
        "id": "LKM6W9Enrhz-"
      },
      "execution_count": null,
      "outputs": []
    },
    {
      "cell_type": "markdown",
      "source": [
        ""
      ],
      "metadata": {
        "id": "KRyn2I_wsSSo"
      }
    },
    {
      "cell_type": "code",
      "source": [
        "print(X_train)"
      ],
      "metadata": {
        "colab": {
          "base_uri": "https://localhost:8080/"
        },
        "id": "z1ebJ8EjsIHJ",
        "outputId": "2df5ead9-a022-42fd-b48a-5c5c0814eb67"
      },
      "execution_count": null,
      "outputs": [
        {
          "output_type": "stream",
          "name": "stdout",
          "text": [
            "[['Jordan' 'MiddleSchool' 'G-06']\n",
            " ['KuwaIT' 'MiddleSchool' 'G-07']\n",
            " ['lebanon' 'MiddleSchool' 'G-07']\n",
            " ...\n",
            " ['KuwaIT' 'MiddleSchool' 'G-07']\n",
            " ['KuwaIT' 'MiddleSchool' 'G-06']\n",
            " ['KuwaIT' 'lowerlevel' 'G-02']]\n"
          ]
        }
      ]
    },
    {
      "cell_type": "code",
      "source": [
        "print(X_test)\n",
        "\n"
      ],
      "metadata": {
        "colab": {
          "base_uri": "https://localhost:8080/"
        },
        "id": "0RzrbEVZsZrP",
        "outputId": "c4a11f7f-f752-4056-8124-7399702dd709"
      },
      "execution_count": null,
      "outputs": [
        {
          "output_type": "stream",
          "name": "stdout",
          "text": [
            "[['Jordan' 'lowerlevel' 'G-02']\n",
            " ['Tunis' 'lowerlevel' 'G-02']\n",
            " ['Jordan' 'MiddleSchool' 'G-06']\n",
            " ['SaudiArabia' 'MiddleSchool' 'G-08']\n",
            " ['KuwaIT' 'lowerlevel' 'G-04']\n",
            " ['Jordan' 'MiddleSchool' 'G-07']\n",
            " ['Iraq' 'MiddleSchool' 'G-06']\n",
            " ['USA' 'lowerlevel' 'G-02']\n",
            " ['KuwaIT' 'MiddleSchool' 'G-07']\n",
            " ['KuwaIT' 'MiddleSchool' 'G-08']\n",
            " ['Jordan' 'lowerlevel' 'G-02']\n",
            " ['USA' 'HighSchool' 'G-12']\n",
            " ['Jordan' 'MiddleSchool' 'G-08']\n",
            " ['Jordan' 'lowerlevel' 'G-02']\n",
            " ['Jordan' 'MiddleSchool' 'G-06']\n",
            " ['lebanon' 'MiddleSchool' 'G-08']\n",
            " ['KuwaIT' 'MiddleSchool' 'G-07']\n",
            " ['Iran' 'lowerlevel' 'G-02']\n",
            " ['KuwaIT' 'lowerlevel' 'G-04']\n",
            " ['Jordan' 'MiddleSchool' 'G-07']\n",
            " ['SaudiArabia' 'MiddleSchool' 'G-08']\n",
            " ['KuwaIT' 'lowerlevel' 'G-02']\n",
            " ['KuwaIT' 'lowerlevel' 'G-02']\n",
            " ['Morocco' 'MiddleSchool' 'G-08']\n",
            " ['Iraq' 'lowerlevel' 'G-02']\n",
            " ['KuwaIT' 'MiddleSchool' 'G-07']\n",
            " ['Jordan' 'MiddleSchool' 'G-06']\n",
            " ['lebanon' 'lowerlevel' 'G-02']\n",
            " ['Jordan' 'MiddleSchool' 'G-08']\n",
            " ['Iraq' 'lowerlevel' 'G-02']\n",
            " ['Syria' 'MiddleSchool' 'G-07']\n",
            " ['KuwaIT' 'lowerlevel' 'G-02']\n",
            " ['KuwaIT' 'MiddleSchool' 'G-07']\n",
            " ['Jordan' 'MiddleSchool' 'G-08']\n",
            " ['KuwaIT' 'HighSchool' 'G-09']\n",
            " ['KuwaIT' 'HighSchool' 'G-12']\n",
            " ['SaudiArabia' 'HighSchool' 'G-11']\n",
            " ['Lybia' 'lowerlevel' 'G-02']\n",
            " ['SaudiArabia' 'lowerlevel' 'G-02']\n",
            " ['Jordan' 'MiddleSchool' 'G-07']\n",
            " ['KuwaIT' 'lowerlevel' 'G-02']\n",
            " ['Jordan' 'lowerlevel' 'G-02']\n",
            " ['KuwaIT' 'lowerlevel' 'G-07']\n",
            " ['lebanon' 'MiddleSchool' 'G-06']\n",
            " ['Iraq' 'MiddleSchool' 'G-06']\n",
            " ['Jordan' 'MiddleSchool' 'G-08']\n",
            " ['lebanon' 'MiddleSchool' 'G-06']\n",
            " ['Morocco' 'lowerlevel' 'G-02']\n",
            " ['Palestine' 'MiddleSchool' 'G-07']\n",
            " ['KuwaIT' 'MiddleSchool' 'G-08']\n",
            " ['Jordan' 'MiddleSchool' 'G-08']\n",
            " ['KuwaIT' 'MiddleSchool' 'G-07']\n",
            " ['Jordan' 'MiddleSchool' 'G-06']\n",
            " ['KuwaIT' 'HighSchool' 'G-12']\n",
            " ['Jordan' 'lowerlevel' 'G-02']\n",
            " ['Iraq' 'MiddleSchool' 'G-08']\n",
            " ['Jordan' 'MiddleSchool' 'G-08']\n",
            " ['Iraq' 'lowerlevel' 'G-02']\n",
            " ['KuwaIT' 'MiddleSchool' 'G-08']\n",
            " ['Jordan' 'lowerlevel' 'G-04']\n",
            " ['KuwaIT' 'MiddleSchool' 'G-08']\n",
            " ['Lybia' 'lowerlevel' 'G-02']\n",
            " ['KuwaIT' 'lowerlevel' 'G-02']\n",
            " ['Syria' 'lowerlevel' 'G-02']\n",
            " ['KuwaIT' 'MiddleSchool' 'G-07']\n",
            " ['KuwaIT' 'lowerlevel' 'G-02']\n",
            " ['KuwaIT' 'MiddleSchool' 'G-07']\n",
            " ['Jordan' 'MiddleSchool' 'G-08']\n",
            " ['Jordan' 'MiddleSchool' 'G-08']\n",
            " ['Jordan' 'MiddleSchool' 'G-06']\n",
            " ['Jordan' 'lowerlevel' 'G-02']\n",
            " ['Jordan' 'MiddleSchool' 'G-07']\n",
            " ['KuwaIT' 'MiddleSchool' 'G-08']\n",
            " ['Jordan' 'lowerlevel' 'G-04']\n",
            " ['Jordan' 'lowerlevel' 'G-02']\n",
            " ['KuwaIT' 'MiddleSchool' 'G-08']\n",
            " ['KuwaIT' 'lowerlevel' 'G-04']\n",
            " ['KuwaIT' 'lowerlevel' 'G-02']\n",
            " ['USA' 'HighSchool' 'G-11']\n",
            " ['Jordan' 'lowerlevel' 'G-04']\n",
            " ['KuwaIT' 'MiddleSchool' 'G-08']\n",
            " ['Jordan' 'MiddleSchool' 'G-06']\n",
            " ['KuwaIT' 'lowerlevel' 'G-04']\n",
            " ['KuwaIT' 'MiddleSchool' 'G-07']\n",
            " ['Jordan' 'MiddleSchool' 'G-08']\n",
            " ['Jordan' 'lowerlevel' 'G-02']\n",
            " ['Iraq' 'lowerlevel' 'G-04']\n",
            " ['Jordan' 'MiddleSchool' 'G-08']\n",
            " ['Jordan' 'lowerlevel' 'G-02']\n",
            " ['KuwaIT' 'lowerlevel' 'G-02']\n",
            " ['Egypt' 'lowerlevel' 'G-02']\n",
            " ['Iran' 'lowerlevel' 'G-02']\n",
            " ['KuwaIT' 'HighSchool' 'G-11']\n",
            " ['Jordan' 'lowerlevel' 'G-02']\n",
            " ['Jordan' 'lowerlevel' 'G-02']\n",
            " ['KuwaIT' 'MiddleSchool' 'G-07']]\n"
          ]
        }
      ]
    },
    {
      "cell_type": "code",
      "source": [
        "X_test[:, 4:] = sc.transform(X_test[:, 4:])\n",
        "print(X_test)"
      ],
      "metadata": {
        "id": "fMHyjKMUsgf0"
      },
      "execution_count": null,
      "outputs": []
    }
  ]
}